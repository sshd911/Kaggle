{
  "nbformat": 4,
  "nbformat_minor": 0,
  "metadata": {
    "colab": {
      "provenance": [],
      "machine_shape": "hm",
      "mount_file_id": "1VvlFCiySlYgbuP-z7DCOMO2d2ZG_o_Ng",
      "authorship_tag": "ABX9TyMxJnbjf7Cr67e+FfIfbnXb",
      "include_colab_link": true
    },
    "kernelspec": {
      "name": "python3",
      "display_name": "Python 3"
    },
    "language_info": {
      "name": "python"
    }
  },
  "cells": [
    {
      "cell_type": "markdown",
      "metadata": {
        "id": "view-in-github",
        "colab_type": "text"
      },
      "source": [
        "<a href=\"https://colab.research.google.com/github/sshd911/Kaggle/blob/main/DataClean_1_NovozymesEnzymeStabilityPrediction.ipynb\" target=\"_parent\"><img src=\"https://colab.research.google.com/assets/colab-badge.svg\" alt=\"Open In Colab\"/></a>"
      ]
    },
    {
      "cell_type": "code",
      "source": [
        "!pip install bio-embeddings[all]"
      ],
      "metadata": {
        "id": "eELVOhmY4uWA"
      },
      "execution_count": null,
      "outputs": []
    },
    {
      "cell_type": "code",
      "source": [
        "from bio_embeddings.embed import SeqVecEmbedder\n",
        "import pandas as pd\n",
        "import numpy as np"
      ],
      "metadata": {
        "id": "O43Jt0Pi446i"
      },
      "execution_count": 4,
      "outputs": []
    },
    {
      "cell_type": "code",
      "execution_count": 6,
      "metadata": {
        "id": "jNOKhTPc4jhd"
      },
      "outputs": [],
      "source": [
        "train_data = pd.read_csv('/content/drive/MyDrive/workdir/updated_train.csv')\n",
        "test_data = pd.read_csv('/content/drive/MyDrive/workdir/test.csv')"
      ]
    },
    {
      "cell_type": "code",
      "source": [
        "train_data.drop('data_source', axis=1, inplace=True)\n",
        "test_data.drop('data_source', axis=1, inplace=True)\n",
        "train_data.dropna(inplace=True)\n",
        "test_data.dropna(inplace=True)"
      ],
      "metadata": {
        "id": "TNCS3XpN51mK"
      },
      "execution_count": 17,
      "outputs": []
    },
    {
      "cell_type": "code",
      "source": [
        "embedder = SeqVecEmbedder()"
      ],
      "metadata": {
        "id": "YtUyfktl4zj1"
      },
      "execution_count": 8,
      "outputs": []
    },
    {
      "cell_type": "code",
      "source": [
        "train_embedding = embedder.embed(train_data['protein_sequence'])\n",
        "test_embedding = embedder.embed(test_data['protein_sequence'])"
      ],
      "metadata": {
        "id": "CMffVNAh_TPu"
      },
      "execution_count": 13,
      "outputs": []
    },
    {
      "cell_type": "code",
      "source": [
        "def data_cleaner(embedding): #{{ TODO }} 精度が良くない\n",
        "  protein_sequence_tmp = np.add(embedding[0], embedding[1])\n",
        "  protein_sequence = np.zeros(len(protein_sequence_tmp))\n",
        "\n",
        "  for i in range(len(protein_sequence_tmp)):\n",
        "    tmp = 0\n",
        "    for j in range(len(protein_sequence_tmp[0]+1)):\n",
        "      tmp += protein_sequence_tmp[i][j]\n",
        "    protein_sequence[i] = tmp\n",
        "\n",
        "  return pd.Series(protein_sequence)"
      ],
      "metadata": {
        "id": "2CBR9ZgB6IrA"
      },
      "execution_count": 14,
      "outputs": []
    },
    {
      "cell_type": "code",
      "source": [
        "train_data['protein_sequence'] = data_cleaner(train_embedding)\n",
        "test_data['protein_sequence'] = data_cleaner(test_embedding)"
      ],
      "metadata": {
        "id": "sOm9kjlY7X3C"
      },
      "execution_count": 15,
      "outputs": []
    },
    {
      "cell_type": "code",
      "source": [
        "train_data.dropna(inplace=True)\n",
        "test_data.dropna(inplace=True)"
      ],
      "metadata": {
        "id": "0ct8uDpp89_i"
      },
      "execution_count": 19,
      "outputs": []
    },
    {
      "cell_type": "code",
      "source": [
        "train_data.to_csv('train_cleaned.csv')\n",
        "test_data.to_csv('test_cleaned.csv')"
      ],
      "metadata": {
        "id": "9Xq4EglL8Cly"
      },
      "execution_count": 20,
      "outputs": []
    }
  ]
}